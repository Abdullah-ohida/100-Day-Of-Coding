{
  "nbformat": 4,
  "nbformat_minor": 0,
  "metadata": {
    "colab": {
      "name": "Copy of Data_science.ipynb",
      "provenance": [],
      "authorship_tag": "ABX9TyOc0plXzQXEkOf5G9oZboO/",
      "include_colab_link": true
    },
    "kernelspec": {
      "name": "python3",
      "display_name": "Python 3"
    }
  },
  "cells": [
    {
      "cell_type": "markdown",
      "metadata": {
        "id": "view-in-github",
        "colab_type": "text"
      },
      "source": [
        "<a href=\"https://colab.research.google.com/github/Abdullah-ohida/100-Day-Of-Coding/blob/master/Copy_of_Data_science.ipynb\" target=\"_parent\"><img src=\"https://colab.research.google.com/assets/colab-badge.svg\" alt=\"Open In Colab\"/></a>"
      ]
    },
    {
      "cell_type": "code",
      "metadata": {
        "colab": {
          "base_uri": "https://localhost:8080/"
        },
        "id": "MVU9uPDpecPL",
        "outputId": "794239ec-e368-4053-b791-8b2819bd26ef"
      },
      "source": [
        "\n",
        "def contain_vowel(string: str):\n",
        "  vowels = ('a', 'e', 'i', 'o', 'u')\n",
        "  for character in string:\n",
        "    if str(character).lower() in vowels:\n",
        "      return True\n",
        "\n",
        "  return False\n",
        "\n",
        "contain_vowel(\"Sky\")\n"
      ],
      "execution_count": null,
      "outputs": [
        {
          "output_type": "execute_result",
          "data": {
            "text/plain": [
              "False"
            ]
          },
          "metadata": {
            "tags": []
          },
          "execution_count": 28
        }
      ]
    },
    {
      "cell_type": "code",
      "metadata": {
        "colab": {
          "base_uri": "https://localhost:8080/"
        },
        "id": "rFZXHn_crpEz",
        "outputId": "afbe905f-60a6-47af-a908-ed2cd53d51b7"
      },
      "source": [
        "def is_even(number):\n",
        "  return number % 2 == 0\n",
        "\n",
        "is_even(6)\n"
      ],
      "execution_count": null,
      "outputs": [
        {
          "output_type": "execute_result",
          "data": {
            "text/plain": [
              "True"
            ]
          },
          "metadata": {
            "tags": []
          },
          "execution_count": 29
        }
      ]
    },
    {
      "cell_type": "code",
      "metadata": {
        "colab": {
          "base_uri": "https://localhost:8080/"
        },
        "id": "zO3jR-SCrmyO",
        "outputId": "5dc60dcb-2245-4aff-8406-029a9e8a4ddb"
      },
      "source": [
        "def is_prime(number):\n",
        "  if number == 1:\n",
        "    return False\n",
        "  for value in range(2, number):\n",
        "    if number % value == 0:\n",
        "      return False\n",
        "  return True\n",
        "\n",
        "is_prime(9)"
      ],
      "execution_count": null,
      "outputs": [
        {
          "output_type": "execute_result",
          "data": {
            "text/plain": [
              "False"
            ]
          },
          "metadata": {
            "tags": []
          },
          "execution_count": 30
        }
      ]
    },
    {
      "cell_type": "code",
      "metadata": {
        "colab": {
          "base_uri": "https://localhost:8080/"
        },
        "id": "OgGbQ97trVbi",
        "outputId": "c1a461f9-2d40-4bd7-ef13-0a9eed94a1f9"
      },
      "source": [
        "def sort_even_odd_prime(list_of_integer):\n",
        "  even_number = []\n",
        "  odd_number = []\n",
        "  prime_number = []\n",
        "\n",
        "  for integer in list_of_integer:\n",
        "    if is_even(integer):\n",
        "      even_number.append(integer)\n",
        "    elif is_prime(integer):\n",
        "      prime_number.append(integer)\n",
        "    else:\n",
        "      odd_number.append(integer)\n",
        "    \n",
        "  even_number.sort()\n",
        "  prime_number.sort()\n",
        "  odd_number.sort()\n",
        "\n",
        "  return tuple(even_number + odd_number + prime_number)\n",
        "  \n",
        "sort_even_odd_prime([2, 43, 5, 7,8, 2, 3, 5, 6, 8, 6, 3, 5])"
      ],
      "execution_count": null,
      "outputs": [
        {
          "output_type": "execute_result",
          "data": {
            "text/plain": [
              "(2, 2, 6, 6, 8, 8, 3, 3, 5, 5, 5, 7, 43)"
            ]
          },
          "metadata": {
            "tags": []
          },
          "execution_count": 31
        }
      ]
    },
    {
      "cell_type": "code",
      "metadata": {
        "id": "hCpSo52Mrs8T",
        "colab": {
          "base_uri": "https://localhost:8080/"
        },
        "outputId": "67bde2dc-7c98-4086-cca6-7f2ad5159b76"
      },
      "source": [
        "!git init\n"
      ],
      "execution_count": null,
      "outputs": [
        {
          "output_type": "stream",
          "text": [
            "Initialized empty Git repository in /content/.git/\n"
          ],
          "name": "stdout"
        }
      ]
    },
    {
      "cell_type": "code",
      "metadata": {
        "id": "KyCc0DhU72H-"
      },
      "source": [
        "!git config --global user.email ohida2001@gmail.com\n",
        "!git config --global user.name Abdullah-ohida"
      ],
      "execution_count": null,
      "outputs": []
    },
    {
      "cell_type": "code",
      "metadata": {
        "id": "VfsiJxhA8Owu"
      },
      "source": [
        "!git add ."
      ],
      "execution_count": null,
      "outputs": []
    },
    {
      "cell_type": "markdown",
      "metadata": {
        "id": "BdPWY6oHhNVE"
      },
      "source": [
        ""
      ]
    },
    {
      "cell_type": "code",
      "metadata": {
        "colab": {
          "base_uri": "https://localhost:8080/"
        },
        "id": "LMo4ymZ18UCB",
        "outputId": "191060b6-7e45-4039-c28a-7e4ea831d4e5"
      },
      "source": [
        "!git commit -m \"initial commit\""
      ],
      "execution_count": null,
      "outputs": [
        {
          "output_type": "stream",
          "text": [
            "[master (root-commit) a095401] initial commit\n",
            " 19 files changed, 50777 insertions(+)\n",
            " create mode 100644 .config/.last_opt_in_prompt.yaml\n",
            " create mode 100644 .config/.last_survey_prompt.yaml\n",
            " create mode 100644 .config/.last_update_check.json\n",
            " create mode 100644 .config/active_config\n",
            " create mode 100644 .config/config_sentinel\n",
            " create mode 100644 .config/configurations/config_default\n",
            " create mode 100644 .config/gce\n",
            " create mode 100644 .config/logs/2021.03.01/14.34.37.071843.log\n",
            " create mode 100644 .config/logs/2021.03.01/14.34.56.151354.log\n",
            " create mode 100644 .config/logs/2021.03.01/14.35.09.556851.log\n",
            " create mode 100644 .config/logs/2021.03.01/14.35.14.752951.log\n",
            " create mode 100644 .config/logs/2021.03.01/14.35.29.380461.log\n",
            " create mode 100644 .config/logs/2021.03.01/14.35.29.900487.log\n",
            " create mode 100755 sample_data/README.md\n",
            " create mode 100755 sample_data/anscombe.json\n",
            " create mode 100644 sample_data/california_housing_test.csv\n",
            " create mode 100644 sample_data/california_housing_train.csv\n",
            " create mode 100644 sample_data/mnist_test.csv\n",
            " create mode 100644 sample_data/mnist_train_small.csv\n"
          ],
          "name": "stdout"
        }
      ]
    },
    {
      "cell_type": "markdown",
      "metadata": {
        "id": "77Hwf-UshMdM"
      },
      "source": [
        ""
      ]
    },
    {
      "cell_type": "code",
      "metadata": {
        "id": "w3O5_Hht8bsS"
      },
      "source": [
        "!git remote set-url origin https://github.com/Abdullah-ohida/Data-science-py.git\n",
        "\n"
      ],
      "execution_count": null,
      "outputs": []
    },
    {
      "cell_type": "code",
      "metadata": {
        "colab": {
          "base_uri": "https://localhost:8080/"
        },
        "id": "_jlaNzsC8jBj",
        "outputId": "ffc80af3-20d3-471c-9f2b-918b7764f93d"
      },
      "source": [
        "!git push -u origin master"
      ],
      "execution_count": null,
      "outputs": [
        {
          "output_type": "stream",
          "text": [
            "fatal: could not read Username for 'https://github.com': No such device or address\n"
          ],
          "name": "stdout"
        }
      ]
    }
  ]
}